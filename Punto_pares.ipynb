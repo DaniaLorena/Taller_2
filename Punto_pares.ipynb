{
 "cells": [
  {
   "cell_type": "markdown",
   "metadata": {},
   "source": [
    "Taller 2\n",
    "\n",
    "Solución puntos pares:"
   ]
  },
  {
   "cell_type": "markdown",
   "metadata": {},
   "source": [
    "2. Desarrollar un programa que ingrese un número flotante n y separe su parte entera de la parte decimal, y luego entregue los dígitos tanto de la parte entera como de la decimal."
   ]
  },
  {
   "cell_type": "code",
   "execution_count": null,
   "metadata": {},
   "outputs": [],
   "source": [
    "# Punto 2\n",
    "def separar_digitos(x : float):\n",
    "    numero : str = str(x) # Convierte el número en String\n",
    "    numero_separado = []  # Almacena los digitos separados \n",
    "    for digito in numero: # Recorre la cadena \n",
    "        numero_separado.append(digito) # Agrega los digitos en la lista\n",
    "    posicion_decimal : int = numero_separado.index(\".\") # Identifica la posición del punto decimal\n",
    "    return (f'La parte entera es {numero_separado[:posicion_decimal]} y la parte decimal es {numero_separado[posicion_decimal + 1:]}')\n",
    "\n",
    "if __name__ == \"__main__\":\n",
    "    numero : float = float(input(\"Digite un número: \"))\n",
    "    print(separar_digitos(numero))"
   ]
  },
  {
   "cell_type": "markdown",
   "metadata": {},
   "source": [
    "4. Diseñar una función que permita calcular una aproximación de la función coseno alrededor de 0 para cualquier valor x (real), utilizando los primeros n términos de la serie de Taylor. nota: use math para traer la función coseno y mostrar la diferencia entre el valor real y la aproximación. Calcule con cuántos términos de la serie (i.e: cuáles valores de n), se tienen errores del 10%, 1%, 0.1% y 0.001%. \n"
   ]
  },
  {
   "cell_type": "code",
   "execution_count": null,
   "metadata": {},
   "outputs": [],
   "source": [
    "# Punto 4\n",
    "import math\n",
    "angulo : float = float(input(\"Digite el valor del ángulo en radianes: \")) \n",
    "COSENO : float = math.cos(angulo)\n",
    "PORCENTAJE : float = float(input(\"Digite el porcentaje de desviación: \"))\n",
    "\n",
    "def coseno_aproximado(x: float, num_terminos: int):\n",
    "    suma = 0\n",
    "    for n in range(num_terminos): \n",
    "        termino = ((-1) ** n) * (x ** (2 * n)) / math.factorial(2 * n) # Se evalua la serie de Taylor para aproximar el coseno\n",
    "        suma += termino\n",
    "    return suma\n",
    "\n",
    "if __name__ == \"__main__\":\n",
    "    terminos : int = 0\n",
    "    desviacion : float = abs((coseno_aproximado(angulo,terminos)-COSENO)/COSENO)\n",
    "    while desviacion > PORCENTAJE:\n",
    "        terminos += 1\n",
    "        desviacion = abs((coseno_aproximado(angulo,terminos)-COSENO)/COSENO)\n",
    "    print(f'Para el valor del coseno del ángulo {angulo} en radianes se necesitan {terminos} terminos para una aproximación del {PORCENTAJE}%')\n",
    "    print(f'El valor del coseno para el angulo {angulo} es {COSENO} y su aproximación es de {coseno_aproximado(angulo,terminos)}')\n"
   ]
  },
  {
   "cell_type": "markdown",
   "metadata": {},
   "source": [
    "6. Desarrollar un programa que determine si en una lista existen o no elementos repetidos. Pista: Maneje valores booleanos y utilice el operador in."
   ]
  },
  {
   "cell_type": "code",
   "execution_count": null,
   "metadata": {},
   "outputs": [],
   "source": [
    "# Punto 6\n",
    "def repetidos (lista):\n",
    "    elementos_no_repetidos = [] # Lista vacia para tener registro de los elementos en nuestra lista\n",
    "    for elementos in lista: # Permite recorrer la lista\n",
    "        if elementos in elementos_no_repetidos: # Evalua si hay elementos repetidos\n",
    "            return True\n",
    "        elementos_no_repetidos.append(elementos)\n",
    "    return False #Al recorrer la lista y no encontrar elementos repetidos retorna False\n",
    "\n",
    "if __name__ == \"__main__\":\n",
    "    elementos : int = int(input(\"Digite cuantos elementos tendra la lista: \"))\n",
    "    numeros = []\n",
    "    for i in range(elementos):\n",
    "        elemento : int = int(input(\"Digite un número: \")) \n",
    "        numeros.append(elemento)\n",
    "    if repetidos(numeros): \n",
    "        print(f'La lista {numeros} tiene elementos repetidos')\n",
    "    else:\n",
    "        print(f'La lista {numeros} no tiene elementos repetidos')"
   ]
  },
  {
   "cell_type": "markdown",
   "metadata": {},
   "source": [
    "8. Desarrollar un programa que dadas dos listas determine que elementos tiene la primer lista que no tenga la segunda lista"
   ]
  },
  {
   "cell_type": "code",
   "execution_count": null,
   "metadata": {},
   "outputs": [],
   "source": [
    "# Punto 8\n",
    "def complemento (lista1, lista2):\n",
    "    lista3 = [] # Lista vacia donde se almacenan los elementos faltantes\n",
    "    for elemento in lista1: # Recorre la lista\n",
    "        if elemento not in lista2: # Evalua si un elemento está o no en la lista\n",
    "            lista3.append(elemento) \n",
    "    return lista3\n",
    "\n",
    "if __name__ == \"__main__\":\n",
    "    Lista1 = []\n",
    "    Lista2 = []\n",
    "    elementos_lista1 : int = int(input(\"Digite cuantos elementos tendra la lista: \")) \n",
    "    elementos_lista2 : int = int(input(\"Digite cuantos elementos tendra la lista: \")) \n",
    "    elemento_lista1  = (input(\"Digite un elemento para la lista 1\"))\n",
    "    Lista1.append(elemento_lista1)\n",
    "    for i in range(elementos_lista2):\n",
    "        elemento_lista2  = (input(\"Digite un elemento para la lista 2\"))\n",
    "        Lista2.append(elemento_lista2)\n",
    "    Lista3 = complemento(Lista1,Lista2)\n",
    "    print(f'Los elementos faltantes en la Lista 2 son: {Lista3}')"
   ]
  },
  {
   "cell_type": "markdown",
   "metadata": {},
   "source": [
    "10. Suponga que se tiene una lista A con ciertos números enteros. Desarrolle una función que, independientemente de los números que se encuentran en la lista A, tome aquellos números que son múltiplos de 3 y los guarde en una lista nueva, la cual debe ser retornada por la función. Implemente la perspectiva de un patrón de acumulación y también de comprensión de listas. Desafío: Si ya lo logró, inténtelo ahora sin utilizar el módulo (%). Pista: Un número es multiplo de 3 si la suma de sus dígitos también lo es, ¿verdad?"
   ]
  },
  {
   "cell_type": "code",
   "execution_count": null,
   "metadata": {},
   "outputs": [],
   "source": [
    "# Punto 10\n",
    "def sumar_digitos(numero:int):\n",
    "    suma = 0\n",
    "    while numero > 0:\n",
    "        suma += numero % 10  # Añadir el último dígito a la suma\n",
    "        numero //= 10  # Eliminar el último dígito\n",
    "    if suma > 9:\n",
    "        sumar_digitos(suma) # La función se repetira hasta que la suma de un solo digito\n",
    "    return suma\n",
    "def multiplo_3(numero:int):\n",
    "    suma_digitos : int = sumar_digitos(numero)\n",
    "    multiplos = [3,6,9] # Los numeros que son multiplos de 3 la suma de sus digitos dan 3, 6 o 9\n",
    "    if suma_digitos in multiplos:\n",
    "        return True \n",
    "    else:\n",
    "        return False\n",
    "def lista_multiplo_3(lista):\n",
    "    multiplos_de_3 = [] # Lista donde se agregan los multiplos de 3\n",
    "    for elemento in lista: # Recorre la lista\n",
    "        if multiplo_3(elemento): # Evalua si los elementos de la lista cumplen la condición\n",
    "            multiplos_de_3.append(elemento)\n",
    "    return multiplos_de_3\n",
    "\n",
    "if __name__ == \"__main__\":\n",
    "    Lista1 = []\n",
    "    elementos_lista1 : int = int(input(\"Digite cuantos elementos tendra la lista: \"))\n",
    "    for i in range(elementos_lista1):\n",
    "        numero : int = int(input(\"Digite un número: \"))\n",
    "        Lista1.append(numero)\n",
    "    Lista2 = lista_multiplo_3(Lista1)\n",
    "    print(f'Da los elementos {Lista1} estos son multiplos de 3: {Lista2}')"
   ]
  }
 ],
 "metadata": {
  "language_info": {
   "name": "python"
  }
 },
 "nbformat": 4,
 "nbformat_minor": 2
}
